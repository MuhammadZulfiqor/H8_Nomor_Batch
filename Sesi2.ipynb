{
  "nbformat": 4,
  "nbformat_minor": 0,
  "metadata": {
    "colab": {
      "provenance": []
    },
    "kernelspec": {
      "name": "python3",
      "display_name": "Python 3"
    },
    "language_info": {
      "name": "python"
    }
  },
  "cells": [
    {
      "cell_type": "markdown",
      "source": [
        "## Logical Conditional"
      ],
      "metadata": {
        "id": "a-5piMindAVF"
      }
    },
    {
      "cell_type": "code",
      "execution_count": 12,
      "metadata": {
        "colab": {
          "base_uri": "https://localhost:8080/"
        },
        "id": "33VnbV2Mckxk",
        "outputId": "76e5ef10-9a24-4c2a-ec3a-75c3c8a51207"
      },
      "outputs": [
        {
          "output_type": "execute_result",
          "data": {
            "text/plain": [
              "True"
            ]
          },
          "metadata": {},
          "execution_count": 12
        }
      ],
      "source": [
        "a = 2\n",
        "b = 3\n",
        "\n",
        "a == b\n",
        "#a != b\n",
        "a > b\n",
        "a >= b\n",
        "a < b\n",
        "a <= b"
      ]
    },
    {
      "cell_type": "code",
      "source": [
        "#if statement\n",
        "if a == b:\n",
        "  print(\"Ya\")\n",
        "  print(\"Memang sama\")\n",
        "\n",
        "if a > b:\n",
        "  print(\"a besar dari b\")\n",
        "\n",
        "if a >= b:\n",
        "  print(\"a lebih besar atau sama dengan b\")"
      ],
      "metadata": {
        "colab": {
          "base_uri": "https://localhost:8080/"
        },
        "id": "ntUGGY57dNWB",
        "outputId": "ceefca43-83ac-4056-8380-647108d38dd8"
      },
      "execution_count": 6,
      "outputs": [
        {
          "output_type": "stream",
          "name": "stdout",
          "text": [
            "Ya\n",
            "Memang sama\n",
            "a lebih besar atau sama dengan b\n"
          ]
        }
      ]
    },
    {
      "cell_type": "code",
      "source": [
        "#if != b:\n",
        "#  print(\"Ya\")\n",
        " # print(\"a dan b sama\")\n",
        "\n",
        "\n",
        "\n",
        "\n",
        "#print(\"Paling bawah\")"
      ],
      "metadata": {
        "colab": {
          "base_uri": "https://localhost:8080/",
          "height": 144
        },
        "id": "z2dOHuAIfnj3",
        "outputId": "9af67ccc-c523-4171-fd95-301d5acc1da1"
      },
      "execution_count": 10,
      "outputs": [
        {
          "output_type": "error",
          "ename": "SyntaxError",
          "evalue": "ignored",
          "traceback": [
            "\u001b[0;36m  File \u001b[0;32m\"<ipython-input-10-9a294fe9f6ee>\"\u001b[0;36m, line \u001b[0;32m1\u001b[0m\n\u001b[0;31m    if != b:\u001b[0m\n\u001b[0m       ^\u001b[0m\n\u001b[0;31mSyntaxError\u001b[0m\u001b[0;31m:\u001b[0m invalid syntax\n"
          ]
        }
      ]
    },
    {
      "cell_type": "markdown",
      "source": [
        "# if else"
      ],
      "metadata": {
        "id": "gp-QOA9LhQJq"
      }
    },
    {
      "cell_type": "markdown",
      "source": [
        "Jika statement 1 salah maka program akan membaca statement 2"
      ],
      "metadata": {
        "id": "QEzLACNZhYBW"
      }
    },
    {
      "cell_type": "code",
      "source": [
        "if a!= b:\n",
        "  print(\"Ya\")\n",
        "  print(\"a dan b sama\")\n",
        "else:\n",
        "  print('jalankan else')"
      ],
      "metadata": {
        "colab": {
          "base_uri": "https://localhost:8080/"
        },
        "id": "RHI-60ljeTKh",
        "outputId": "776119cb-90cf-4c8c-fb35-671060ba6282"
      },
      "execution_count": 13,
      "outputs": [
        {
          "output_type": "stream",
          "name": "stdout",
          "text": [
            "Ya\n",
            "a dan b sama\n"
          ]
        }
      ]
    },
    {
      "cell_type": "code",
      "source": [
        "#if,elif,else\n",
        "hargabuku = 15000\n",
        "hargamajalah = 30000\n",
        "uang = 10000\n",
        "\n",
        "if uang > hargabuku:\n",
        "  print(\"uang kamu cukup membeli buku\")\n",
        "elif uang > hargamajalah:\n",
        "  print(\"uang kamu cukup untuk membeli majalah\")\n",
        "elif uang == hargabuku:\n",
        "  print(\"uang kamu cukup membeli buku dan habis\")\n",
        "else:\n",
        "  print(\"uang kamu tidak cukup\")"
      ],
      "metadata": {
        "colab": {
          "base_uri": "https://localhost:8080/"
        },
        "id": "g9_L2gxbiolg",
        "outputId": "3f8f3041-27a2-4141-e049-0bbdba23fc16"
      },
      "execution_count": 20,
      "outputs": [
        {
          "output_type": "stream",
          "name": "stdout",
          "text": [
            "uang kamu tidak cukup\n"
          ]
        }
      ]
    },
    {
      "cell_type": "code",
      "source": [
        "if 1 < 2:\n",
        "  print('1 kecil dari 2')\n",
        "if 2 > 1:\n",
        "  print('2 besar dari 1')"
      ],
      "metadata": {
        "colab": {
          "base_uri": "https://localhost:8080/"
        },
        "id": "3526YCySk8gv",
        "outputId": "b058c38e-c402-4a18-fc0b-fa2201c49646"
      },
      "execution_count": 21,
      "outputs": [
        {
          "output_type": "stream",
          "name": "stdout",
          "text": [
            "1 kecil dari 2\n",
            "2 besar dari 1\n"
          ]
        }
      ]
    },
    {
      "cell_type": "markdown",
      "source": [
        "# One line statement"
      ],
      "metadata": {
        "id": "fJjAJEdYlfe-"
      }
    },
    {
      "cell_type": "code",
      "source": [
        "#if a in 'bara': print('ada');print('a');print('dalam')"
      ],
      "metadata": {
        "colab": {
          "base_uri": "https://localhost:8080/",
          "height": 179
        },
        "id": "wZa0wluclkbx",
        "outputId": "8462f234-f3a7-404b-958c-38c2354200b8"
      },
      "execution_count": 22,
      "outputs": [
        {
          "output_type": "error",
          "ename": "TypeError",
          "evalue": "ignored",
          "traceback": [
            "\u001b[0;31m---------------------------------------------------------------------------\u001b[0m",
            "\u001b[0;31mTypeError\u001b[0m                                 Traceback (most recent call last)",
            "\u001b[0;32m<ipython-input-22-3c18bfdfdcd6>\u001b[0m in \u001b[0;36m<cell line: 1>\u001b[0;34m()\u001b[0m\n\u001b[0;32m----> 1\u001b[0;31m \u001b[0;32mif\u001b[0m \u001b[0ma\u001b[0m \u001b[0;32min\u001b[0m \u001b[0;34m'bara'\u001b[0m\u001b[0;34m:\u001b[0m \u001b[0mprint\u001b[0m\u001b[0;34m(\u001b[0m\u001b[0;34m'ada'\u001b[0m\u001b[0;34m)\u001b[0m\u001b[0;34m;\u001b[0m\u001b[0mprint\u001b[0m\u001b[0;34m(\u001b[0m\u001b[0;34m'a'\u001b[0m\u001b[0;34m)\u001b[0m\u001b[0;34m;\u001b[0m\u001b[0mprint\u001b[0m\u001b[0;34m(\u001b[0m\u001b[0;34m'dalam'\u001b[0m\u001b[0;34m)\u001b[0m\u001b[0;34m\u001b[0m\u001b[0;34m\u001b[0m\u001b[0m\n\u001b[0m",
            "\u001b[0;31mTypeError\u001b[0m: 'in <string>' requires string as left operand, not int"
          ]
        }
      ]
    },
    {
      "cell_type": "markdown",
      "source": [],
      "metadata": {
        "id": "twjvQmvcmNZz"
      }
    },
    {
      "cell_type": "code",
      "source": [
        "raining = True\n",
        "print(\"lets go to the\", 'beach' if not raining else 'library')"
      ],
      "metadata": {
        "colab": {
          "base_uri": "https://localhost:8080/"
        },
        "id": "IsP42EicnTvx",
        "outputId": "609ed327-1ab8-4a92-e7f9-d965b354835d"
      },
      "execution_count": 25,
      "outputs": [
        {
          "output_type": "stream",
          "name": "stdout",
          "text": [
            "lets go to the library\n"
          ]
        }
      ]
    },
    {
      "cell_type": "code",
      "source": [
        "#conditional expression\n",
        "m = a if a > b else b#note pahami sintax\n",
        "m"
      ],
      "metadata": {
        "colab": {
          "base_uri": "https://localhost:8080/"
        },
        "id": "lMRvZsuSoJiN",
        "outputId": "ff1dc02a-98fd-40ad-9d87-8aa94743d6f0"
      },
      "execution_count": 29,
      "outputs": [
        {
          "output_type": "execute_result",
          "data": {
            "text/plain": [
              "3"
            ]
          },
          "metadata": {},
          "execution_count": 29
        }
      ]
    },
    {
      "cell_type": "code",
      "source": [
        "if True:\n",
        "  pass\n",
        "print('footon')"
      ],
      "metadata": {
        "colab": {
          "base_uri": "https://localhost:8080/"
        },
        "id": "AKg5NjzYosXA",
        "outputId": "74986d44-134b-40a5-9c5a-4e81a4d85b54"
      },
      "execution_count": 30,
      "outputs": [
        {
          "output_type": "stream",
          "name": "stdout",
          "text": [
            "footon\n"
          ]
        }
      ]
    },
    {
      "cell_type": "markdown",
      "source": [
        "##looping"
      ],
      "metadata": {
        "id": "RH9SKbuzpwYC"
      }
    },
    {
      "cell_type": "markdown",
      "source": [],
      "metadata": {
        "id": "OhRPE0DYqiQd"
      }
    },
    {
      "cell_type": "code",
      "source": [
        "#while loop or infinite loop\n",
        "#membuat suatu kode berulang kali hingga kondisi terpenuhi\n"
      ],
      "metadata": {
        "id": "FHH00sLYoV7Z"
      },
      "execution_count": null,
      "outputs": []
    },
    {
      "cell_type": "code",
      "source": [
        "#break menghentikan codingan\n",
        "#continue skip statment yang di perintahkan\n",
        "n = 5\n",
        "while n > 0:\n",
        "  n -= 1\n",
        "\n",
        "  if n == 2:\n",
        "    continue\n",
        "\n",
        "  print(n)\n",
        "else:\n",
        "  print('loop selesai')\n",
        "print('ini print di luar loop')"
      ],
      "metadata": {
        "colab": {
          "base_uri": "https://localhost:8080/"
        },
        "id": "WGaPEHe9rZAE",
        "outputId": "82c838d5-bd69-4b9c-fa7a-cffcca5aadc3"
      },
      "execution_count": 47,
      "outputs": [
        {
          "output_type": "stream",
          "name": "stdout",
          "text": [
            "4\n",
            "3\n",
            "1\n",
            "0\n",
            "loop selesai\n"
          ]
        }
      ]
    },
    {
      "cell_type": "code",
      "source": [
        "n = 5\n",
        "while n > 0: n -=1; print(n)"
      ],
      "metadata": {
        "colab": {
          "base_uri": "https://localhost:8080/"
        },
        "id": "nZbH0KBSvDtD",
        "outputId": "802d0597-a4c1-43c9-e542-7cf50ccf3fa2"
      },
      "execution_count": 48,
      "outputs": [
        {
          "output_type": "stream",
          "name": "stdout",
          "text": [
            "4\n",
            "3\n",
            "2\n",
            "1\n",
            "0\n"
          ]
        }
      ]
    },
    {
      "cell_type": "markdown",
      "source": [
        "For loop"
      ],
      "metadata": {
        "id": "8sWqWRzF0NvU"
      }
    },
    {
      "cell_type": "code",
      "source": [
        "a = {'foo':1,'bar':2,'buzz':3}\n",
        "for i in a:\n",
        "  print(i)"
      ],
      "metadata": {
        "colab": {
          "base_uri": "https://localhost:8080/"
        },
        "id": "mj1aiLDD0EYn",
        "outputId": "602bd8cb-136b-4432-e1d4-f99f6ee11bd7"
      },
      "execution_count": 53,
      "outputs": [
        {
          "output_type": "stream",
          "name": "stdout",
          "text": [
            "foo\n",
            "bar\n",
            "buzz\n"
          ]
        }
      ]
    },
    {
      "cell_type": "code",
      "source": [
        "for n in (0,1,2,3,4):\n",
        "  print(n)"
      ],
      "metadata": {
        "colab": {
          "base_uri": "https://localhost:8080/"
        },
        "id": "F6zOWJCs3ZSK",
        "outputId": "18471197-f5c2-49a6-a274-34be6ac6863d"
      },
      "execution_count": 54,
      "outputs": [
        {
          "output_type": "stream",
          "name": "stdout",
          "text": [
            "0\n",
            "1\n",
            "2\n",
            "3\n",
            "4\n"
          ]
        }
      ]
    },
    {
      "cell_type": "code",
      "source": [
        "for i in range(25):\n",
        "  print(i)"
      ],
      "metadata": {
        "colab": {
          "base_uri": "https://localhost:8080/"
        },
        "id": "PSgVwIH20L5X",
        "outputId": "5d8e89e7-ad0d-4aa6-f234-e4fc5d81bb66"
      },
      "execution_count": 56,
      "outputs": [
        {
          "output_type": "stream",
          "name": "stdout",
          "text": [
            "0\n",
            "1\n",
            "2\n",
            "3\n",
            "4\n",
            "5\n",
            "6\n",
            "7\n",
            "8\n",
            "9\n",
            "10\n",
            "11\n",
            "12\n",
            "13\n",
            "14\n",
            "15\n",
            "16\n",
            "17\n",
            "18\n",
            "19\n",
            "20\n",
            "21\n",
            "22\n",
            "23\n",
            "24\n"
          ]
        }
      ]
    },
    {
      "cell_type": "code",
      "source": [
        "for i in range(20,1,-1):\n",
        "  if i == 15:\n",
        "    break\n",
        "  print(i)\n",
        "else:\n",
        "  print('mantap')"
      ],
      "metadata": {
        "colab": {
          "base_uri": "https://localhost:8080/"
        },
        "id": "0cZC-ORA4IGi",
        "outputId": "8e42d8f5-8ce1-4628-82d1-a917e9b23fe7"
      },
      "execution_count": 66,
      "outputs": [
        {
          "output_type": "stream",
          "name": "stdout",
          "text": [
            "20\n",
            "19\n",
            "18\n",
            "17\n",
            "16\n"
          ]
        }
      ]
    },
    {
      "cell_type": "code",
      "source": [
        "nama = input(\"siapa nama kamu?\")\n",
        "print(nama)"
      ],
      "metadata": {
        "colab": {
          "base_uri": "https://localhost:8080/"
        },
        "id": "3WTttMDS5Qc5",
        "outputId": "b59b3801-3bd9-491f-fb8f-909f0d43994b"
      },
      "execution_count": 67,
      "outputs": [
        {
          "output_type": "stream",
          "name": "stdout",
          "text": [
            "siapa nama kamu?koko\n",
            "koko\n"
          ]
        }
      ]
    },
    {
      "cell_type": "code",
      "source": [
        "umur = input('berapa umur kamu?')\n",
        "umur_int=int(umur)\n",
        "print(umur_int + 2)\n",
        "\n",
        "print('tipe data umur adalah', type(umur))\n",
        "print('tipe data umur_int adalah', type(umur_int))"
      ],
      "metadata": {
        "colab": {
          "base_uri": "https://localhost:8080/"
        },
        "id": "HcXAuuCt7KWq",
        "outputId": "29217a78-72db-4c37-8c56-891640d2cf16"
      },
      "execution_count": 69,
      "outputs": [
        {
          "output_type": "stream",
          "name": "stdout",
          "text": [
            "berapa umur kamu?10\n",
            "12\n",
            "tipe data umur adalah <class 'str'>\n",
            "tipe data umur_int adalah <class 'int'>\n"
          ]
        }
      ]
    },
    {
      "cell_type": "code",
      "source": [
        "while True:\n",
        "  password = input('masukan password kamu:')\n",
        "\n",
        "  if password =='hactive8':\n",
        "    break\n",
        "  else:\n",
        "    print('password yang kamu masukkan salah')"
      ],
      "metadata": {
        "colab": {
          "base_uri": "https://localhost:8080/",
          "height": 419
        },
        "id": "5WAA-iki75k9",
        "outputId": "c5f8e5bf-0cf3-40fb-fa23-7a0e7ae17ef0"
      },
      "execution_count": 73,
      "outputs": [
        {
          "output_type": "error",
          "ename": "KeyboardInterrupt",
          "evalue": "ignored",
          "traceback": [
            "\u001b[0;31m---------------------------------------------------------------------------\u001b[0m",
            "\u001b[0;31mKeyboardInterrupt\u001b[0m                         Traceback (most recent call last)",
            "\u001b[0;32m<ipython-input-73-31718eed0768>\u001b[0m in \u001b[0;36m<cell line: 1>\u001b[0;34m()\u001b[0m\n\u001b[1;32m      1\u001b[0m \u001b[0;32mwhile\u001b[0m \u001b[0;32mTrue\u001b[0m\u001b[0;34m:\u001b[0m\u001b[0;34m\u001b[0m\u001b[0;34m\u001b[0m\u001b[0m\n\u001b[0;32m----> 2\u001b[0;31m   \u001b[0mpassword\u001b[0m \u001b[0;34m=\u001b[0m \u001b[0minput\u001b[0m\u001b[0;34m(\u001b[0m\u001b[0;34m'masukan password kamu:'\u001b[0m\u001b[0;34m)\u001b[0m\u001b[0;34m\u001b[0m\u001b[0;34m\u001b[0m\u001b[0m\n\u001b[0m\u001b[1;32m      3\u001b[0m \u001b[0;34m\u001b[0m\u001b[0m\n\u001b[1;32m      4\u001b[0m   \u001b[0;32mif\u001b[0m \u001b[0mpassword\u001b[0m \u001b[0;34m==\u001b[0m\u001b[0;34m'hactive8'\u001b[0m\u001b[0;34m:\u001b[0m\u001b[0;34m\u001b[0m\u001b[0;34m\u001b[0m\u001b[0m\n\u001b[1;32m      5\u001b[0m     \u001b[0;32mbreak\u001b[0m\u001b[0;34m\u001b[0m\u001b[0;34m\u001b[0m\u001b[0m\n",
            "\u001b[0;32m/usr/local/lib/python3.10/dist-packages/ipykernel/kernelbase.py\u001b[0m in \u001b[0;36mraw_input\u001b[0;34m(self, prompt)\u001b[0m\n\u001b[1;32m    849\u001b[0m                 \u001b[0;34m\"raw_input was called, but this frontend does not support input requests.\"\u001b[0m\u001b[0;34m\u001b[0m\u001b[0;34m\u001b[0m\u001b[0m\n\u001b[1;32m    850\u001b[0m             )\n\u001b[0;32m--> 851\u001b[0;31m         return self._input_request(str(prompt),\n\u001b[0m\u001b[1;32m    852\u001b[0m             \u001b[0mself\u001b[0m\u001b[0;34m.\u001b[0m\u001b[0m_parent_ident\u001b[0m\u001b[0;34m,\u001b[0m\u001b[0;34m\u001b[0m\u001b[0;34m\u001b[0m\u001b[0m\n\u001b[1;32m    853\u001b[0m             \u001b[0mself\u001b[0m\u001b[0;34m.\u001b[0m\u001b[0m_parent_header\u001b[0m\u001b[0;34m,\u001b[0m\u001b[0;34m\u001b[0m\u001b[0;34m\u001b[0m\u001b[0m\n",
            "\u001b[0;32m/usr/local/lib/python3.10/dist-packages/ipykernel/kernelbase.py\u001b[0m in \u001b[0;36m_input_request\u001b[0;34m(self, prompt, ident, parent, password)\u001b[0m\n\u001b[1;32m    893\u001b[0m             \u001b[0;32mexcept\u001b[0m \u001b[0mKeyboardInterrupt\u001b[0m\u001b[0;34m:\u001b[0m\u001b[0;34m\u001b[0m\u001b[0;34m\u001b[0m\u001b[0m\n\u001b[1;32m    894\u001b[0m                 \u001b[0;31m# re-raise KeyboardInterrupt, to truncate traceback\u001b[0m\u001b[0;34m\u001b[0m\u001b[0;34m\u001b[0m\u001b[0m\n\u001b[0;32m--> 895\u001b[0;31m                 \u001b[0;32mraise\u001b[0m \u001b[0mKeyboardInterrupt\u001b[0m\u001b[0;34m(\u001b[0m\u001b[0;34m\"Interrupted by user\"\u001b[0m\u001b[0;34m)\u001b[0m \u001b[0;32mfrom\u001b[0m \u001b[0;32mNone\u001b[0m\u001b[0;34m\u001b[0m\u001b[0;34m\u001b[0m\u001b[0m\n\u001b[0m\u001b[1;32m    896\u001b[0m             \u001b[0;32mexcept\u001b[0m \u001b[0mException\u001b[0m \u001b[0;32mas\u001b[0m \u001b[0me\u001b[0m\u001b[0;34m:\u001b[0m\u001b[0;34m\u001b[0m\u001b[0;34m\u001b[0m\u001b[0m\n\u001b[1;32m    897\u001b[0m                 \u001b[0mself\u001b[0m\u001b[0;34m.\u001b[0m\u001b[0mlog\u001b[0m\u001b[0;34m.\u001b[0m\u001b[0mwarning\u001b[0m\u001b[0;34m(\u001b[0m\u001b[0;34m\"Invalid Message:\"\u001b[0m\u001b[0;34m,\u001b[0m \u001b[0mexc_info\u001b[0m\u001b[0;34m=\u001b[0m\u001b[0;32mTrue\u001b[0m\u001b[0;34m)\u001b[0m\u001b[0;34m\u001b[0m\u001b[0;34m\u001b[0m\u001b[0m\n",
            "\u001b[0;31mKeyboardInterrupt\u001b[0m: Interrupted by user"
          ]
        }
      ]
    }
  ]
}