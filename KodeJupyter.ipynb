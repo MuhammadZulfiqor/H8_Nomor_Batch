{
 "cells": [
  {
   "cell_type": "markdown",
   "id": "0f902e4b",
   "metadata": {},
   "source": [
    "# Kode Jupyter"
   ]
  },
  {
   "cell_type": "markdown",
   "id": "5d2abe79",
   "metadata": {},
   "source": [
    "## Simple Syntax"
   ]
  },
  {
   "cell_type": "code",
   "execution_count": 1,
   "id": "91117fca",
   "metadata": {},
   "outputs": [
    {
     "name": "stdout",
     "output_type": "stream",
     "text": [
      "Haloo kode\n"
     ]
    }
   ],
   "source": [
    "print('Haloo kode')"
   ]
  },
  {
   "cell_type": "code",
   "execution_count": 2,
   "id": "436bf81d",
   "metadata": {},
   "outputs": [
    {
     "name": "stdout",
     "output_type": "stream",
     "text": [
      "1\n",
      "2\n",
      "3\n",
      "4\n",
      "5\n",
      "6\n",
      "7\n",
      "8\n",
      "9\n",
      "10\n"
     ]
    }
   ],
   "source": [
    "i = 1\n",
    "while(i <= 10):\n",
    "    print(i)\n",
    "    i = i + 1"
   ]
  },
  {
   "cell_type": "markdown",
   "id": "25d795dd",
   "metadata": {},
   "source": [
    "##  Using Library"
   ]
  },
  {
   "cell_type": "code",
   "execution_count": 2,
   "id": "8593754d",
   "metadata": {},
   "outputs": [],
   "source": [
    "import pandas as pd\n",
    "import numpy as np"
   ]
  },
  {
   "cell_type": "code",
   "execution_count": 3,
   "id": "b5ea4150",
   "metadata": {},
   "outputs": [
    {
     "data": {
      "text/html": [
       "<div>\n",
       "<style scoped>\n",
       "    .dataframe tbody tr th:only-of-type {\n",
       "        vertical-align: middle;\n",
       "    }\n",
       "\n",
       "    .dataframe tbody tr th {\n",
       "        vertical-align: top;\n",
       "    }\n",
       "\n",
       "    .dataframe thead th {\n",
       "        text-align: right;\n",
       "    }\n",
       "</style>\n",
       "<table border=\"1\" class=\"dataframe\">\n",
       "  <thead>\n",
       "    <tr style=\"text-align: right;\">\n",
       "      <th></th>\n",
       "      <th>A</th>\n",
       "      <th>B</th>\n",
       "      <th>C</th>\n",
       "    </tr>\n",
       "  </thead>\n",
       "  <tbody>\n",
       "    <tr>\n",
       "      <th>0</th>\n",
       "      <td>1</td>\n",
       "      <td>2</td>\n",
       "      <td>3</td>\n",
       "    </tr>\n",
       "    <tr>\n",
       "      <th>1</th>\n",
       "      <td>4</td>\n",
       "      <td>5</td>\n",
       "      <td>6</td>\n",
       "    </tr>\n",
       "  </tbody>\n",
       "</table>\n",
       "</div>"
      ],
      "text/plain": [
       "   A  B  C\n",
       "0  1  2  3\n",
       "1  4  5  6"
      ]
     },
     "execution_count": 3,
     "metadata": {},
     "output_type": "execute_result"
    }
   ],
   "source": [
    "data = pd.DataFrame(data=np.array([[1,2,3],[4,5,6]], dtype=int), columns= ['A','B','C'])\n",
    "data"
   ]
  },
  {
   "cell_type": "markdown",
   "id": "c1799bf3",
   "metadata": {},
   "source": [
    "## Using Latex"
   ]
  },
  {
   "cell_type": "markdown",
   "id": "49246f27",
   "metadata": {},
   "source": [
    "$$c = \\sqrt(a^2 + b ^2)$$"
   ]
  },
  {
   "cell_type": "code",
   "execution_count": 4,
   "id": "754c41d6",
   "metadata": {},
   "outputs": [
    {
     "data": {
      "text/latex": [
       "$\\displaystyle \\sqrt{a^2 + b ^2}$"
      ],
      "text/plain": [
       "<IPython.core.display.Math object>"
      ]
     },
     "metadata": {},
     "output_type": "display_data"
    }
   ],
   "source": [
    "from IPython.display import display, Math, Latex\n",
    "display(Math(r'\\sqrt{a^2 + b ^2}'))"
   ]
  },
  {
   "cell_type": "markdown",
   "id": "8c34954d",
   "metadata": {},
   "source": [
    "## Executing Shell Command"
   ]
  },
  {
   "cell_type": "code",
   "execution_count": 5,
   "id": "a0d8bd6c",
   "metadata": {},
   "outputs": [
    {
     "name": "stdout",
     "output_type": "stream",
     "text": [
      "['.Albion Online Launcher', '.conda', '.condarc', '.continuum', '.ipynb_checkpoints', '.ipython', '.jupyter', '.kettle', '.Ld2VirtualBox', '.lim', '.m2', '.nbi', '.pentaho', '.QtWebEngineProcess', '.swt', '.vscode', '.vscode-cli', '3D Objects', 'anaconda3', 'AppData', 'Application Data', 'BrawlhallaReplays', 'Contacts', 'Cookies', 'Desktop', 'Documents', 'Downloads', 'Favorites', 'KodeJupyter.ipynb', 'Links', 'Local Settings', 'Music', 'My Documents', 'NetHood', 'NTUSER.DAT', 'ntuser.dat.LOG1', 'ntuser.dat.LOG2', 'NTUSER.DAT{a2332f18-cdbf-11ec-8680-002248483d79}.TM.blf', 'NTUSER.DAT{a2332f18-cdbf-11ec-8680-002248483d79}.TMContainer00000000000000000001.regtrans-ms', 'NTUSER.DAT{a2332f18-cdbf-11ec-8680-002248483d79}.TMContainer00000000000000000002.regtrans-ms', 'ntuser.ini', 'OneDrive', 'PrintHood', 'Recent', 'Saved Games', 'Searches', 'SendTo', 'Start Menu', 'Templates', 'Untitled.ipynb', 'Untitled1.ipynb', 'Videos']\n",
      "C:\\Users\\Zulfi\n",
      "Halooo\n"
     ]
    }
   ],
   "source": [
    "import os\n",
    "\n",
    "print(os.listdir())\n",
    "\n",
    "print(os.getcwd())\n",
    "\n",
    "!echo Halooo"
   ]
  },
  {
   "cell_type": "markdown",
   "id": "810656c5",
   "metadata": {},
   "source": [
    "## Pas Value to from Shell"
   ]
  },
  {
   "cell_type": "code",
   "execution_count": 19,
   "id": "d613c979",
   "metadata": {},
   "outputs": [
    {
     "name": "stdout",
     "output_type": "stream",
     "text": [
      "[' Volume in drive C is Windows', ' Volume Serial Number is A4E2-3DED', '', ' Directory of C:\\\\Users\\\\Zulfi', '', '17/08/2023  13:31    <DIR>          .', '09/02/2023  14:47    <DIR>          ..', '07/12/2022  11:44    <DIR>          .Albion Online Launcher', '16/08/2023  21:04    <DIR>          .conda', '15/08/2023  16:08                25 .condarc', '15/08/2023  16:07    <DIR>          .continuum', '17/08/2023  13:08    <DIR>          .ipynb_checkpoints', '15/08/2023  16:11    <DIR>          .ipython', '16/08/2023  21:04    <DIR>          .jupyter', '11/11/2022  11:11    <DIR>          .kettle', '05/04/2023  10:35    <DIR>          .Ld2VirtualBox', '17/08/2023  12:48    <DIR>          .lim', '14/10/2022  20:28    <DIR>          .m2', '14/10/2022  20:18    <DIR>          .nbi', '21/10/2022  08:00    <DIR>          .pentaho', '07/12/2022  11:44    <DIR>          .QtWebEngineProcess', '21/10/2022  07:44    <DIR>          .swt', '01/10/2021  09:50    <DIR>          .vscode', '08/06/2023  16:18    <DIR>          .vscode-cli', '17/09/2021  23:57    <DIR>          3D Objects', '16/08/2023  21:04    <DIR>          anaconda3', '20/09/2021  22:20    <DIR>          BrawlhallaReplays', '09/02/2023  21:32    <DIR>          Contacts', '09/02/2023  21:11    <DIR>          Desktop', '04/04/2022  13:44    <DIR>          Documents', '16/08/2023  20:55    <DIR>          Downloads', '09/02/2023  21:32    <DIR>          Favorites', '17/08/2023  13:31             5.155 KodeJupyter.ipynb', '09/02/2023  21:32    <DIR>          Links', '09/02/2023  21:32    <DIR>          Music', '17/08/2023  12:46    <DIR>          OneDrive', '16/02/2023  10:03    <DIR>          Saved Games', '09/02/2023  21:32    <DIR>          Searches', '15/08/2023  16:11               589 Untitled.ipynb', '16/08/2023  21:13             2.995 Untitled1.ipynb', '15/04/2023  21:55    <DIR>          Videos', '               4 File(s)          8.764 bytes', '              32 Dir(s)  37.236.400.128 bytes free']\n"
     ]
    }
   ],
   "source": [
    "files = !dir\n",
    "print(files)"
   ]
  },
  {
   "cell_type": "code",
   "execution_count": null,
   "id": "9a0c5fb1",
   "metadata": {},
   "outputs": [],
   "source": [
    "import os\n",
    "\n",
    "print(os.listdir())\n",
    "\n",
    "print(os.getcwd())\n",
    "\n",
    "!echo Halooo"
   ]
  },
  {
   "cell_type": "code",
   "execution_count": null,
   "id": "ecd0c52b",
   "metadata": {},
   "outputs": [],
   "source": []
  }
 ],
 "metadata": {
  "kernelspec": {
   "display_name": "Python 3 (ipykernel)",
   "language": "python",
   "name": "python3"
  },
  "language_info": {
   "codemirror_mode": {
    "name": "ipython",
    "version": 3
   },
   "file_extension": ".py",
   "mimetype": "text/x-python",
   "name": "python",
   "nbconvert_exporter": "python",
   "pygments_lexer": "ipython3",
   "version": "3.11.4"
  }
 },
 "nbformat": 4,
 "nbformat_minor": 5
}
